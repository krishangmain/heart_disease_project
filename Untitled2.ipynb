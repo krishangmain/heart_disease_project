{
 "cells": [
  {
   "cell_type": "code",
   "execution_count": 12,
   "id": "98ce8583",
   "metadata": {},
   "outputs": [],
   "source": [
    "import numpy as np\n",
    "import pandas as p\n",
    "import matplotlib.pyplot as plt\n",
    "from sklearn.model_selection import train_test_split,cross_val_score\n",
    "from sklearn.metrics import precision_score,recall_score,f1_score,accuracy_score\n",
    "import pickle"
   ]
  },
  {
   "cell_type": "code",
   "execution_count": 13,
   "id": "edde7aa9",
   "metadata": {},
   "outputs": [],
   "source": [
    "log_reg=pickle.load(open(\"heart_disease_predictor_using_log_reg.pkl\",\"rb\"))\n"
   ]
  },
  {
   "cell_type": "code",
   "execution_count": 14,
   "id": "77d5ba63",
   "metadata": {},
   "outputs": [],
   "source": [
    "df=p.read_csv(\"heart-disease.csv\")\n",
    "x=df.drop(\"target\",axis=1)\n",
    "y=df[\"target\"]\n",
    "np.random.seed(42)\n",
    "x_train,x_test,y_train,y_test=train_test_split(x,y,test_size=0.2)"
   ]
  },
  {
   "cell_type": "code",
   "execution_count": 18,
   "id": "52d5858c",
   "metadata": {},
   "outputs": [],
   "source": [
    "def evaluate(x,y):\n",
    "    prec=precision_score(x,y)\n",
    "    recall=recall_score(x,y)\n",
    "    f1=f1_score(x,y)\n",
    "    acc=accuracy_score(x,y)\n",
    "    eval_matrix={\"Precision:\":prec,\"Recall:\":recall,\"F1:\":f1,\"Accuracy:\":acc}"
   ]
  },
  {
   "cell_type": "code",
   "execution_count": 19,
   "id": "0ac466a8",
   "metadata": {},
   "outputs": [],
   "source": [
    "y_preds=log_reg.predict(x_test)\n",
    "result=evaluate(y_test,y_preds)\n",
    "result"
   ]
  },
  {
   "cell_type": "code",
   "execution_count": null,
   "id": "173e78da",
   "metadata": {},
   "outputs": [],
   "source": []
  }
 ],
 "metadata": {
  "kernelspec": {
   "display_name": "Python 3 (ipykernel)",
   "language": "python",
   "name": "python3"
  },
  "language_info": {
   "codemirror_mode": {
    "name": "ipython",
    "version": 3
   },
   "file_extension": ".py",
   "mimetype": "text/x-python",
   "name": "python",
   "nbconvert_exporter": "python",
   "pygments_lexer": "ipython3",
   "version": "3.10.9"
  }
 },
 "nbformat": 4,
 "nbformat_minor": 5
}
